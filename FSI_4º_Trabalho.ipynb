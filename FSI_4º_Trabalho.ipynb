{
  "nbformat": 4,
  "nbformat_minor": 0,
  "metadata": {
    "colab": {
      "name": "FSI - 4º Trabalho.ipynb",
      "provenance": [],
      "collapsed_sections": [
        "U2ZBwnZjj71y",
        "xyHM-bl3kCl4",
        "u7pT7qublf2J",
        "4w_JLZtUl9qD",
        "8Jc25FMjn78x",
        "4SZs6QhCoEFh",
        "5dcS4z4PoGd4",
        "E0q42wVLo1YK",
        "7wExs3lXpSxy",
        "S9bOVIxBpWYU",
        "BCDSukjvpkVC",
        "HU6x2pyfq1i4",
        "rFZ8RZI8rNcg",
        "6D68Eq6-rYUZ",
        "Z7IiaqEUrggO",
        "vLr1sSaTrtX3",
        "iCjRQFuwsMad",
        "pGKeqJFtHYXs",
        "587U2G9zxUAz",
        "MgG8UUSoy3nk"
      ],
      "mount_file_id": "11l4t7PqYGi3EvWdRNe9Gc30T4MoTHAB7",
      "authorship_tag": "ABX9TyNAMBJqtqc16M34/NHHEIik",
      "include_colab_link": true
    },
    "kernelspec": {
      "name": "python3",
      "display_name": "Python 3"
    }
  },
  "cells": [
    {
      "cell_type": "markdown",
      "metadata": {
        "id": "view-in-github",
        "colab_type": "text"
      },
      "source": [
        "<a href=\"https://colab.research.google.com/github/vichShir/TrabalhoFSI/blob/master/FSI_4%C2%BA_Trabalho.ipynb\" target=\"_parent\"><img src=\"https://colab.research.google.com/assets/colab-badge.svg\" alt=\"Open In Colab\"/></a>"
      ]
    },
    {
      "cell_type": "markdown",
      "metadata": {
        "id": "Eg93FDPAjxYs",
        "colab_type": "text"
      },
      "source": [
        "#Análise Banco de Dados - Breast Cancer Wisconsin (Diagnostic)"
      ]
    },
    {
      "cell_type": "code",
      "metadata": {
        "id": "7ezuKSXBwZvy",
        "colab_type": "code",
        "outputId": "ecc3dea0-1e17-48c7-f188-89086c008301",
        "colab": {
          "base_uri": "https://localhost:8080/",
          "height": 243
        }
      },
      "source": [
        "%matplotlib inline\n",
        "\n",
        "import matplotlib.pyplot as plt\n",
        "import pandas as pd\n",
        "\n",
        "breast_diagnostic = pd.read_csv(\"drive/My Drive/Colab Datasets/data.csv\")\n",
        "breast_diagnostic.head()"
      ],
      "execution_count": 0,
      "outputs": [
        {
          "output_type": "execute_result",
          "data": {
            "text/html": [
              "<div>\n",
              "<style scoped>\n",
              "    .dataframe tbody tr th:only-of-type {\n",
              "        vertical-align: middle;\n",
              "    }\n",
              "\n",
              "    .dataframe tbody tr th {\n",
              "        vertical-align: top;\n",
              "    }\n",
              "\n",
              "    .dataframe thead th {\n",
              "        text-align: right;\n",
              "    }\n",
              "</style>\n",
              "<table border=\"1\" class=\"dataframe\">\n",
              "  <thead>\n",
              "    <tr style=\"text-align: right;\">\n",
              "      <th></th>\n",
              "      <th>id</th>\n",
              "      <th>diagnosis</th>\n",
              "      <th>radius_mean</th>\n",
              "      <th>texture_mean</th>\n",
              "      <th>perimeter_mean</th>\n",
              "      <th>area_mean</th>\n",
              "      <th>smoothness_mean</th>\n",
              "      <th>compactness_mean</th>\n",
              "      <th>concavity_mean</th>\n",
              "      <th>concave points_mean</th>\n",
              "      <th>symmetry_mean</th>\n",
              "      <th>fractal_dimension_mean</th>\n",
              "      <th>radius_se</th>\n",
              "      <th>texture_se</th>\n",
              "      <th>perimeter_se</th>\n",
              "      <th>area_se</th>\n",
              "      <th>smoothness_se</th>\n",
              "      <th>compactness_se</th>\n",
              "      <th>concavity_se</th>\n",
              "      <th>concave points_se</th>\n",
              "      <th>symmetry_se</th>\n",
              "      <th>fractal_dimension_se</th>\n",
              "      <th>radius_worst</th>\n",
              "      <th>texture_worst</th>\n",
              "      <th>perimeter_worst</th>\n",
              "      <th>area_worst</th>\n",
              "      <th>smoothness_worst</th>\n",
              "      <th>compactness_worst</th>\n",
              "      <th>concavity_worst</th>\n",
              "      <th>concave points_worst</th>\n",
              "      <th>symmetry_worst</th>\n",
              "      <th>fractal_dimension_worst</th>\n",
              "      <th>Unnamed: 32</th>\n",
              "    </tr>\n",
              "  </thead>\n",
              "  <tbody>\n",
              "    <tr>\n",
              "      <th>0</th>\n",
              "      <td>842302</td>\n",
              "      <td>M</td>\n",
              "      <td>17.99</td>\n",
              "      <td>10.38</td>\n",
              "      <td>122.80</td>\n",
              "      <td>1001.0</td>\n",
              "      <td>0.11840</td>\n",
              "      <td>0.27760</td>\n",
              "      <td>0.3001</td>\n",
              "      <td>0.14710</td>\n",
              "      <td>0.2419</td>\n",
              "      <td>0.07871</td>\n",
              "      <td>1.0950</td>\n",
              "      <td>0.9053</td>\n",
              "      <td>8.589</td>\n",
              "      <td>153.40</td>\n",
              "      <td>0.006399</td>\n",
              "      <td>0.04904</td>\n",
              "      <td>0.05373</td>\n",
              "      <td>0.01587</td>\n",
              "      <td>0.03003</td>\n",
              "      <td>0.006193</td>\n",
              "      <td>25.38</td>\n",
              "      <td>17.33</td>\n",
              "      <td>184.60</td>\n",
              "      <td>2019.0</td>\n",
              "      <td>0.1622</td>\n",
              "      <td>0.6656</td>\n",
              "      <td>0.7119</td>\n",
              "      <td>0.2654</td>\n",
              "      <td>0.4601</td>\n",
              "      <td>0.11890</td>\n",
              "      <td>NaN</td>\n",
              "    </tr>\n",
              "    <tr>\n",
              "      <th>1</th>\n",
              "      <td>842517</td>\n",
              "      <td>M</td>\n",
              "      <td>20.57</td>\n",
              "      <td>17.77</td>\n",
              "      <td>132.90</td>\n",
              "      <td>1326.0</td>\n",
              "      <td>0.08474</td>\n",
              "      <td>0.07864</td>\n",
              "      <td>0.0869</td>\n",
              "      <td>0.07017</td>\n",
              "      <td>0.1812</td>\n",
              "      <td>0.05667</td>\n",
              "      <td>0.5435</td>\n",
              "      <td>0.7339</td>\n",
              "      <td>3.398</td>\n",
              "      <td>74.08</td>\n",
              "      <td>0.005225</td>\n",
              "      <td>0.01308</td>\n",
              "      <td>0.01860</td>\n",
              "      <td>0.01340</td>\n",
              "      <td>0.01389</td>\n",
              "      <td>0.003532</td>\n",
              "      <td>24.99</td>\n",
              "      <td>23.41</td>\n",
              "      <td>158.80</td>\n",
              "      <td>1956.0</td>\n",
              "      <td>0.1238</td>\n",
              "      <td>0.1866</td>\n",
              "      <td>0.2416</td>\n",
              "      <td>0.1860</td>\n",
              "      <td>0.2750</td>\n",
              "      <td>0.08902</td>\n",
              "      <td>NaN</td>\n",
              "    </tr>\n",
              "    <tr>\n",
              "      <th>2</th>\n",
              "      <td>84300903</td>\n",
              "      <td>M</td>\n",
              "      <td>19.69</td>\n",
              "      <td>21.25</td>\n",
              "      <td>130.00</td>\n",
              "      <td>1203.0</td>\n",
              "      <td>0.10960</td>\n",
              "      <td>0.15990</td>\n",
              "      <td>0.1974</td>\n",
              "      <td>0.12790</td>\n",
              "      <td>0.2069</td>\n",
              "      <td>0.05999</td>\n",
              "      <td>0.7456</td>\n",
              "      <td>0.7869</td>\n",
              "      <td>4.585</td>\n",
              "      <td>94.03</td>\n",
              "      <td>0.006150</td>\n",
              "      <td>0.04006</td>\n",
              "      <td>0.03832</td>\n",
              "      <td>0.02058</td>\n",
              "      <td>0.02250</td>\n",
              "      <td>0.004571</td>\n",
              "      <td>23.57</td>\n",
              "      <td>25.53</td>\n",
              "      <td>152.50</td>\n",
              "      <td>1709.0</td>\n",
              "      <td>0.1444</td>\n",
              "      <td>0.4245</td>\n",
              "      <td>0.4504</td>\n",
              "      <td>0.2430</td>\n",
              "      <td>0.3613</td>\n",
              "      <td>0.08758</td>\n",
              "      <td>NaN</td>\n",
              "    </tr>\n",
              "    <tr>\n",
              "      <th>3</th>\n",
              "      <td>84348301</td>\n",
              "      <td>M</td>\n",
              "      <td>11.42</td>\n",
              "      <td>20.38</td>\n",
              "      <td>77.58</td>\n",
              "      <td>386.1</td>\n",
              "      <td>0.14250</td>\n",
              "      <td>0.28390</td>\n",
              "      <td>0.2414</td>\n",
              "      <td>0.10520</td>\n",
              "      <td>0.2597</td>\n",
              "      <td>0.09744</td>\n",
              "      <td>0.4956</td>\n",
              "      <td>1.1560</td>\n",
              "      <td>3.445</td>\n",
              "      <td>27.23</td>\n",
              "      <td>0.009110</td>\n",
              "      <td>0.07458</td>\n",
              "      <td>0.05661</td>\n",
              "      <td>0.01867</td>\n",
              "      <td>0.05963</td>\n",
              "      <td>0.009208</td>\n",
              "      <td>14.91</td>\n",
              "      <td>26.50</td>\n",
              "      <td>98.87</td>\n",
              "      <td>567.7</td>\n",
              "      <td>0.2098</td>\n",
              "      <td>0.8663</td>\n",
              "      <td>0.6869</td>\n",
              "      <td>0.2575</td>\n",
              "      <td>0.6638</td>\n",
              "      <td>0.17300</td>\n",
              "      <td>NaN</td>\n",
              "    </tr>\n",
              "    <tr>\n",
              "      <th>4</th>\n",
              "      <td>84358402</td>\n",
              "      <td>M</td>\n",
              "      <td>20.29</td>\n",
              "      <td>14.34</td>\n",
              "      <td>135.10</td>\n",
              "      <td>1297.0</td>\n",
              "      <td>0.10030</td>\n",
              "      <td>0.13280</td>\n",
              "      <td>0.1980</td>\n",
              "      <td>0.10430</td>\n",
              "      <td>0.1809</td>\n",
              "      <td>0.05883</td>\n",
              "      <td>0.7572</td>\n",
              "      <td>0.7813</td>\n",
              "      <td>5.438</td>\n",
              "      <td>94.44</td>\n",
              "      <td>0.011490</td>\n",
              "      <td>0.02461</td>\n",
              "      <td>0.05688</td>\n",
              "      <td>0.01885</td>\n",
              "      <td>0.01756</td>\n",
              "      <td>0.005115</td>\n",
              "      <td>22.54</td>\n",
              "      <td>16.67</td>\n",
              "      <td>152.20</td>\n",
              "      <td>1575.0</td>\n",
              "      <td>0.1374</td>\n",
              "      <td>0.2050</td>\n",
              "      <td>0.4000</td>\n",
              "      <td>0.1625</td>\n",
              "      <td>0.2364</td>\n",
              "      <td>0.07678</td>\n",
              "      <td>NaN</td>\n",
              "    </tr>\n",
              "  </tbody>\n",
              "</table>\n",
              "</div>"
            ],
            "text/plain": [
              "         id diagnosis  ...  fractal_dimension_worst  Unnamed: 32\n",
              "0    842302         M  ...                  0.11890          NaN\n",
              "1    842517         M  ...                  0.08902          NaN\n",
              "2  84300903         M  ...                  0.08758          NaN\n",
              "3  84348301         M  ...                  0.17300          NaN\n",
              "4  84358402         M  ...                  0.07678          NaN\n",
              "\n",
              "[5 rows x 33 columns]"
            ]
          },
          "metadata": {
            "tags": []
          },
          "execution_count": 143
        }
      ]
    },
    {
      "cell_type": "markdown",
      "metadata": {
        "id": "U2ZBwnZjj71y",
        "colab_type": "text"
      },
      "source": [
        "##Informações"
      ]
    },
    {
      "cell_type": "code",
      "metadata": {
        "id": "TMOWsyj4jbXB",
        "colab_type": "code",
        "outputId": "8acd1b20-668b-4969-b858-e0b672a033ef",
        "colab": {
          "base_uri": "https://localhost:8080/",
          "height": 745
        }
      },
      "source": [
        "breast_diagnostic.info()"
      ],
      "execution_count": 0,
      "outputs": [
        {
          "output_type": "stream",
          "text": [
            "<class 'pandas.core.frame.DataFrame'>\n",
            "RangeIndex: 569 entries, 0 to 568\n",
            "Data columns (total 33 columns):\n",
            " #   Column                   Non-Null Count  Dtype  \n",
            "---  ------                   --------------  -----  \n",
            " 0   id                       569 non-null    int64  \n",
            " 1   diagnosis                569 non-null    object \n",
            " 2   radius_mean              569 non-null    float64\n",
            " 3   texture_mean             569 non-null    float64\n",
            " 4   perimeter_mean           569 non-null    float64\n",
            " 5   area_mean                569 non-null    float64\n",
            " 6   smoothness_mean          569 non-null    float64\n",
            " 7   compactness_mean         569 non-null    float64\n",
            " 8   concavity_mean           569 non-null    float64\n",
            " 9   concave points_mean      569 non-null    float64\n",
            " 10  symmetry_mean            569 non-null    float64\n",
            " 11  fractal_dimension_mean   569 non-null    float64\n",
            " 12  radius_se                569 non-null    float64\n",
            " 13  texture_se               569 non-null    float64\n",
            " 14  perimeter_se             569 non-null    float64\n",
            " 15  area_se                  569 non-null    float64\n",
            " 16  smoothness_se            569 non-null    float64\n",
            " 17  compactness_se           569 non-null    float64\n",
            " 18  concavity_se             569 non-null    float64\n",
            " 19  concave points_se        569 non-null    float64\n",
            " 20  symmetry_se              569 non-null    float64\n",
            " 21  fractal_dimension_se     569 non-null    float64\n",
            " 22  radius_worst             569 non-null    float64\n",
            " 23  texture_worst            569 non-null    float64\n",
            " 24  perimeter_worst          569 non-null    float64\n",
            " 25  area_worst               569 non-null    float64\n",
            " 26  smoothness_worst         569 non-null    float64\n",
            " 27  compactness_worst        569 non-null    float64\n",
            " 28  concavity_worst          569 non-null    float64\n",
            " 29  concave points_worst     569 non-null    float64\n",
            " 30  symmetry_worst           569 non-null    float64\n",
            " 31  fractal_dimension_worst  569 non-null    float64\n",
            " 32  Unnamed: 32              0 non-null      float64\n",
            "dtypes: float64(31), int64(1), object(1)\n",
            "memory usage: 146.8+ KB\n"
          ],
          "name": "stdout"
        }
      ]
    },
    {
      "cell_type": "markdown",
      "metadata": {
        "id": "xyHM-bl3kCl4",
        "colab_type": "text"
      },
      "source": [
        "###Coluna Diagnóstico"
      ]
    },
    {
      "cell_type": "code",
      "metadata": {
        "id": "h5B-P5v7w3ZY",
        "colab_type": "code",
        "outputId": "aab55c58-7ec8-4129-8d17-476844dd5d27",
        "colab": {
          "base_uri": "https://localhost:8080/",
          "height": 108
        }
      },
      "source": [
        "breast_diagnostic.diagnosis.describe()"
      ],
      "execution_count": 0,
      "outputs": [
        {
          "output_type": "execute_result",
          "data": {
            "text/plain": [
              "count     569\n",
              "unique      2\n",
              "top         B\n",
              "freq      357\n",
              "Name: diagnosis, dtype: object"
            ]
          },
          "metadata": {
            "tags": []
          },
          "execution_count": 4
        }
      ]
    },
    {
      "cell_type": "code",
      "metadata": {
        "id": "l8gUSvVAtsin",
        "colab_type": "code",
        "outputId": "18f1de12-055b-4da6-bda3-e868e229f71a",
        "colab": {
          "base_uri": "https://localhost:8080/",
          "height": 90
        }
      },
      "source": [
        "B = round(breast_diagnostic.diagnosis.value_counts().B/breast_diagnostic.diagnosis.count() * 100, 2)\n",
        "M = round(breast_diagnostic.diagnosis.value_counts().M/breast_diagnostic.diagnosis.count() * 100, 2)\n",
        "perc_diagnosis = pd.Series(\n",
        "    [B, M, B+M], index=['B%', 'M%', 'Total']\n",
        ")\n",
        "perc_diagnosis"
      ],
      "execution_count": 0,
      "outputs": [
        {
          "output_type": "execute_result",
          "data": {
            "text/plain": [
              "B%        62.74\n",
              "M%        37.26\n",
              "Total    100.00\n",
              "dtype: float64"
            ]
          },
          "metadata": {
            "tags": []
          },
          "execution_count": 122
        }
      ]
    },
    {
      "cell_type": "code",
      "metadata": {
        "id": "yGJx1HlYikoJ",
        "colab_type": "code",
        "outputId": "10e77142-7cd6-407e-ea85-f37aad12dbed",
        "colab": {
          "base_uri": "https://localhost:8080/",
          "height": 266
        }
      },
      "source": [
        "breast_diagnostic.diagnosis.value_counts().plot.pie()\n",
        "plt.legend(loc='best')"
      ],
      "execution_count": 0,
      "outputs": [
        {
          "output_type": "execute_result",
          "data": {
            "text/plain": [
              "<matplotlib.legend.Legend at 0x7fdaf0f6c7b8>"
            ]
          },
          "metadata": {
            "tags": []
          },
          "execution_count": 123
        },
        {
          "output_type": "display_data",
          "data": {
            "image/png": "[encoded data removed]",
            "text/plain": [
              "<Figure size 432x288 with 1 Axes>"
            ]
          },
          "metadata": {
            "tags": []
          }
        }
      ]
    },
    {
      "cell_type": "markdown",
      "metadata": {
        "id": "u7pT7qublf2J",
        "colab_type": "text"
      },
      "source": [
        "### Colunas de Raios"
      ]
    },
    {
      "cell_type": "code",
      "metadata": {
        "id": "bTdaeishjC2s",
        "colab_type": "code",
        "outputId": "cc74648a-1e3f-49fe-d09a-242f8cb2e442",
        "colab": {
          "base_uri": "https://localhost:8080/",
          "height": 515
        }
      },
      "source": [
        "plt.rcParams['figure.figsize'] = (22, 8)\n",
        "\n",
        "breast_diagnostic.radius_mean.plot.line()\n",
        "breast_diagnostic.radius_se.plot.line()\n",
        "breast_diagnostic.radius_worst.plot.line()\n",
        "\n",
        "plt.xlabel('registros')\n",
        "plt.ylabel('raio')"
      ],
      "execution_count": 0,
      "outputs": [
        {
          "output_type": "execute_result",
          "data": {
            "text/plain": [
              "Text(0, 0.5, 'raio')"
            ]
          },
          "metadata": {
            "tags": []
          },
          "execution_count": 26
        },
        {
          "output_type": "display_data",
          "data": {
            "image/png": "[encoded data removed]",
            "text/plain": [
              "<Figure size 1584x576 with 1 Axes>"
            ]
          },
          "metadata": {
            "tags": [],
            "needs_background": "light"
          }
        }
      ]
    },
    {
      "cell_type": "markdown",
      "metadata": {
        "id": "4w_JLZtUl9qD",
        "colab_type": "text"
      },
      "source": [
        "## Machine Learning - Target Array: Diagnosis"
      ]
    },
    {
      "cell_type": "markdown",
      "metadata": {
        "id": "tvGSGPAbmSY5",
        "colab_type": "text"
      },
      "source": [
        "1. Escolha uma classe de modelo importando do Scikit.\n",
        "2. Escolha os hiperparâmetros do modelo instaciando a classe escolhida no Passo I.\n",
        "3. Organize os dados em uma *feature matrix* e um *target array*.\n",
        "4. Ajuste o modelo invocando o método **fit()**.\n",
        "5. Aplique o modelo aos novos dados usando **predict()**."
      ]
    },
    {
      "cell_type": "markdown",
      "metadata": {
        "id": "8Jc25FMjn78x",
        "colab_type": "text"
      },
      "source": [
        "###Por Decision Tree Classifier"
      ]
    },
    {
      "cell_type": "markdown",
      "metadata": {
        "id": "4SZs6QhCoEFh",
        "colab_type": "text"
      },
      "source": [
        "####Passos 1 e 2"
      ]
    },
    {
      "cell_type": "code",
      "metadata": {
        "id": "YPeLtlo9mbjk",
        "colab_type": "code",
        "colab": {}
      },
      "source": [
        "from sklearn.tree import DecisionTreeClassifier      # Passo 1: escolha do modelo\n",
        "model_decisiontree = DecisionTreeClassifier()        # Passo 2: escolha dos hiperparâmetros e instanciação"
      ],
      "execution_count": 0,
      "outputs": []
    },
    {
      "cell_type": "markdown",
      "metadata": {
        "id": "5dcS4z4PoGd4",
        "colab_type": "text"
      },
      "source": [
        "####Passo 3"
      ]
    },
    {
      "cell_type": "code",
      "metadata": {
        "id": "aw5mYrz_jBuw",
        "colab_type": "code",
        "outputId": "7153f71b-35a9-4e64-dbef-9a1978fdcc30",
        "colab": {
          "base_uri": "https://localhost:8080/",
          "height": 243
        }
      },
      "source": [
        "#Passo 3.1: Feature Matrix\n",
        "X_diagnosis = breast_diagnostic.loc[:, [\n",
        "                                      'radius_mean', 'texture_mean', 'perimeter_mean', 'area_mean', 'smoothness_mean', 'compactness_mean', 'concavity_mean',\n",
        "                                      'concave points_mean', 'symmetry_mean', 'fractal_dimension_mean', 'radius_se', 'texture_se', 'perimeter_se', 'area_se',\n",
        "                                      'smoothness_se', 'compactness_se', 'concavity_se', 'concave points_se', 'symmetry_se', 'fractal_dimension_se', 'radius_worst',\n",
        "                                      'texture_worst', 'perimeter_worst', 'area_worst', 'smoothness_worst', 'compactness_worst', 'concavity_worst', 'concave points_worst',\n",
        "                                      'symmetry_worst', 'fractal_dimension_worst'\n",
        "                                     ]]\n",
        "X_diagnosis.head()"
      ],
      "execution_count": 0,
      "outputs": [
        {
          "output_type": "execute_result",
          "data": {
            "text/html": [
              "<div>\n",
              "<style scoped>\n",
              "    .dataframe tbody tr th:only-of-type {\n",
              "        vertical-align: middle;\n",
              "    }\n",
              "\n",
              "    .dataframe tbody tr th {\n",
              "        vertical-align: top;\n",
              "    }\n",
              "\n",
              "    .dataframe thead th {\n",
              "        text-align: right;\n",
              "    }\n",
              "</style>\n",
              "<table border=\"1\" class=\"dataframe\">\n",
              "  <thead>\n",
              "    <tr style=\"text-align: right;\">\n",
              "      <th></th>\n",
              "      <th>radius_mean</th>\n",
              "      <th>texture_mean</th>\n",
              "      <th>perimeter_mean</th>\n",
              "      <th>area_mean</th>\n",
              "      <th>smoothness_mean</th>\n",
              "      <th>compactness_mean</th>\n",
              "      <th>concavity_mean</th>\n",
              "      <th>concave points_mean</th>\n",
              "      <th>symmetry_mean</th>\n",
              "      <th>fractal_dimension_mean</th>\n",
              "      <th>radius_se</th>\n",
              "      <th>texture_se</th>\n",
              "      <th>perimeter_se</th>\n",
              "      <th>area_se</th>\n",
              "      <th>smoothness_se</th>\n",
              "      <th>compactness_se</th>\n",
              "      <th>concavity_se</th>\n",
              "      <th>concave points_se</th>\n",
              "      <th>symmetry_se</th>\n",
              "      <th>fractal_dimension_se</th>\n",
              "      <th>radius_worst</th>\n",
              "      <th>texture_worst</th>\n",
              "      <th>perimeter_worst</th>\n",
              "      <th>area_worst</th>\n",
              "      <th>smoothness_worst</th>\n",
              "      <th>compactness_worst</th>\n",
              "      <th>concavity_worst</th>\n",
              "      <th>concave points_worst</th>\n",
              "      <th>symmetry_worst</th>\n",
              "      <th>fractal_dimension_worst</th>\n",
              "    </tr>\n",
              "  </thead>\n",
              "  <tbody>\n",
              "    <tr>\n",
              "      <th>0</th>\n",
              "      <td>17.99</td>\n",
              "      <td>10.38</td>\n",
              "      <td>122.80</td>\n",
              "      <td>1001.0</td>\n",
              "      <td>0.11840</td>\n",
              "      <td>0.27760</td>\n",
              "      <td>0.3001</td>\n",
              "      <td>0.14710</td>\n",
              "      <td>0.2419</td>\n",
              "      <td>0.07871</td>\n",
              "      <td>1.0950</td>\n",
              "      <td>0.9053</td>\n",
              "      <td>8.589</td>\n",
              "      <td>153.40</td>\n",
              "      <td>0.006399</td>\n",
              "      <td>0.04904</td>\n",
              "      <td>0.05373</td>\n",
              "      <td>0.01587</td>\n",
              "      <td>0.03003</td>\n",
              "      <td>0.006193</td>\n",
              "      <td>25.38</td>\n",
              "      <td>17.33</td>\n",
              "      <td>184.60</td>\n",
              "      <td>2019.0</td>\n",
              "      <td>0.1622</td>\n",
              "      <td>0.6656</td>\n",
              "      <td>0.7119</td>\n",
              "      <td>0.2654</td>\n",
              "      <td>0.4601</td>\n",
              "      <td>0.11890</td>\n",
              "    </tr>\n",
              "    <tr>\n",
              "      <th>1</th>\n",
              "      <td>20.57</td>\n",
              "      <td>17.77</td>\n",
              "      <td>132.90</td>\n",
              "      <td>1326.0</td>\n",
              "      <td>0.08474</td>\n",
              "      <td>0.07864</td>\n",
              "      <td>0.0869</td>\n",
              "      <td>0.07017</td>\n",
              "      <td>0.1812</td>\n",
              "      <td>0.05667</td>\n",
              "      <td>0.5435</td>\n",
              "      <td>0.7339</td>\n",
              "      <td>3.398</td>\n",
              "      <td>74.08</td>\n",
              "      <td>0.005225</td>\n",
              "      <td>0.01308</td>\n",
              "      <td>0.01860</td>\n",
              "      <td>0.01340</td>\n",
              "      <td>0.01389</td>\n",
              "      <td>0.003532</td>\n",
              "      <td>24.99</td>\n",
              "      <td>23.41</td>\n",
              "      <td>158.80</td>\n",
              "      <td>1956.0</td>\n",
              "      <td>0.1238</td>\n",
              "      <td>0.1866</td>\n",
              "      <td>0.2416</td>\n",
              "      <td>0.1860</td>\n",
              "      <td>0.2750</td>\n",
              "      <td>0.08902</td>\n",
              "    </tr>\n",
              "    <tr>\n",
              "      <th>2</th>\n",
              "      <td>19.69</td>\n",
              "      <td>21.25</td>\n",
              "      <td>130.00</td>\n",
              "      <td>1203.0</td>\n",
              "      <td>0.10960</td>\n",
              "      <td>0.15990</td>\n",
              "      <td>0.1974</td>\n",
              "      <td>0.12790</td>\n",
              "      <td>0.2069</td>\n",
              "      <td>0.05999</td>\n",
              "      <td>0.7456</td>\n",
              "      <td>0.7869</td>\n",
              "      <td>4.585</td>\n",
              "      <td>94.03</td>\n",
              "      <td>0.006150</td>\n",
              "      <td>0.04006</td>\n",
              "      <td>0.03832</td>\n",
              "      <td>0.02058</td>\n",
              "      <td>0.02250</td>\n",
              "      <td>0.004571</td>\n",
              "      <td>23.57</td>\n",
              "      <td>25.53</td>\n",
              "      <td>152.50</td>\n",
              "      <td>1709.0</td>\n",
              "      <td>0.1444</td>\n",
              "      <td>0.4245</td>\n",
              "      <td>0.4504</td>\n",
              "      <td>0.2430</td>\n",
              "      <td>0.3613</td>\n",
              "      <td>0.08758</td>\n",
              "    </tr>\n",
              "    <tr>\n",
              "      <th>3</th>\n",
              "      <td>11.42</td>\n",
              "      <td>20.38</td>\n",
              "      <td>77.58</td>\n",
              "      <td>386.1</td>\n",
              "      <td>0.14250</td>\n",
              "      <td>0.28390</td>\n",
              "      <td>0.2414</td>\n",
              "      <td>0.10520</td>\n",
              "      <td>0.2597</td>\n",
              "      <td>0.09744</td>\n",
              "      <td>0.4956</td>\n",
              "      <td>1.1560</td>\n",
              "      <td>3.445</td>\n",
              "      <td>27.23</td>\n",
              "      <td>0.009110</td>\n",
              "      <td>0.07458</td>\n",
              "      <td>0.05661</td>\n",
              "      <td>0.01867</td>\n",
              "      <td>0.05963</td>\n",
              "      <td>0.009208</td>\n",
              "      <td>14.91</td>\n",
              "      <td>26.50</td>\n",
              "      <td>98.87</td>\n",
              "      <td>567.7</td>\n",
              "      <td>0.2098</td>\n",
              "      <td>0.8663</td>\n",
              "      <td>0.6869</td>\n",
              "      <td>0.2575</td>\n",
              "      <td>0.6638</td>\n",
              "      <td>0.17300</td>\n",
              "    </tr>\n",
              "    <tr>\n",
              "      <th>4</th>\n",
              "      <td>20.29</td>\n",
              "      <td>14.34</td>\n",
              "      <td>135.10</td>\n",
              "      <td>1297.0</td>\n",
              "      <td>0.10030</td>\n",
              "      <td>0.13280</td>\n",
              "      <td>0.1980</td>\n",
              "      <td>0.10430</td>\n",
              "      <td>0.1809</td>\n",
              "      <td>0.05883</td>\n",
              "      <td>0.7572</td>\n",
              "      <td>0.7813</td>\n",
              "      <td>5.438</td>\n",
              "      <td>94.44</td>\n",
              "      <td>0.011490</td>\n",
              "      <td>0.02461</td>\n",
              "      <td>0.05688</td>\n",
              "      <td>0.01885</td>\n",
              "      <td>0.01756</td>\n",
              "      <td>0.005115</td>\n",
              "      <td>22.54</td>\n",
              "      <td>16.67</td>\n",
              "      <td>152.20</td>\n",
              "      <td>1575.0</td>\n",
              "      <td>0.1374</td>\n",
              "      <td>0.2050</td>\n",
              "      <td>0.4000</td>\n",
              "      <td>0.1625</td>\n",
              "      <td>0.2364</td>\n",
              "      <td>0.07678</td>\n",
              "    </tr>\n",
              "  </tbody>\n",
              "</table>\n",
              "</div>"
            ],
            "text/plain": [
              "   radius_mean  texture_mean  ...  symmetry_worst  fractal_dimension_worst\n",
              "0        17.99         10.38  ...          0.4601                  0.11890\n",
              "1        20.57         17.77  ...          0.2750                  0.08902\n",
              "2        19.69         21.25  ...          0.3613                  0.08758\n",
              "3        11.42         20.38  ...          0.6638                  0.17300\n",
              "4        20.29         14.34  ...          0.2364                  0.07678\n",
              "\n",
              "[5 rows x 30 columns]"
            ]
          },
          "metadata": {
            "tags": []
          },
          "execution_count": 31
        }
      ]
    },
    {
      "cell_type": "code",
      "metadata": {
        "id": "9n3Y8mPXoJKX",
        "colab_type": "code",
        "outputId": "9420bde4-b08b-41df-d57f-c9e64bd8f722",
        "colab": {
          "base_uri": "https://localhost:8080/",
          "height": 126
        }
      },
      "source": [
        "#Passo 3.2: Target Array\n",
        "y_diagnosis = breast_diagnostic.diagnosis\n",
        "y_diagnosis.head()"
      ],
      "execution_count": 0,
      "outputs": [
        {
          "output_type": "execute_result",
          "data": {
            "text/plain": [
              "0    M\n",
              "1    M\n",
              "2    M\n",
              "3    M\n",
              "4    M\n",
              "Name: diagnosis, dtype: object"
            ]
          },
          "metadata": {
            "tags": []
          },
          "execution_count": 33
        }
      ]
    },
    {
      "cell_type": "markdown",
      "metadata": {
        "id": "E0q42wVLo1YK",
        "colab_type": "text"
      },
      "source": [
        "#####Train Test Split"
      ]
    },
    {
      "cell_type": "code",
      "metadata": {
        "id": "ScROxrHJoR9o",
        "colab_type": "code",
        "colab": {}
      },
      "source": [
        "#Passo 3.3: Separação do Banco de Dados\n",
        "from sklearn.model_selection import train_test_split\n",
        "X_train, X_test, y_train, y_test = train_test_split(X_diagnosis, y_diagnosis, random_state=2020, train_size=0.7)"
      ],
      "execution_count": 0,
      "outputs": []
    },
    {
      "cell_type": "markdown",
      "metadata": {
        "id": "7wExs3lXpSxy",
        "colab_type": "text"
      },
      "source": [
        "######Banco de Dados - Treino"
      ]
    },
    {
      "cell_type": "code",
      "metadata": {
        "id": "AvtqBY1Aobel",
        "colab_type": "code",
        "outputId": "0618adfb-380c-4793-d484-5e1426db415d",
        "colab": {
          "base_uri": "https://localhost:8080/",
          "height": 690
        }
      },
      "source": [
        "X_train.info()"
      ],
      "execution_count": 0,
      "outputs": [
        {
          "output_type": "stream",
          "text": [
            "<class 'pandas.core.frame.DataFrame'>\n",
            "Int64Index: 398 entries, 293 to 392\n",
            "Data columns (total 30 columns):\n",
            " #   Column                   Non-Null Count  Dtype  \n",
            "---  ------                   --------------  -----  \n",
            " 0   radius_mean              398 non-null    float64\n",
            " 1   texture_mean             398 non-null    float64\n",
            " 2   perimeter_mean           398 non-null    float64\n",
            " 3   area_mean                398 non-null    float64\n",
            " 4   smoothness_mean          398 non-null    float64\n",
            " 5   compactness_mean         398 non-null    float64\n",
            " 6   concavity_mean           398 non-null    float64\n",
            " 7   concave points_mean      398 non-null    float64\n",
            " 8   symmetry_mean            398 non-null    float64\n",
            " 9   fractal_dimension_mean   398 non-null    float64\n",
            " 10  radius_se                398 non-null    float64\n",
            " 11  texture_se               398 non-null    float64\n",
            " 12  perimeter_se             398 non-null    float64\n",
            " 13  area_se                  398 non-null    float64\n",
            " 14  smoothness_se            398 non-null    float64\n",
            " 15  compactness_se           398 non-null    float64\n",
            " 16  concavity_se             398 non-null    float64\n",
            " 17  concave points_se        398 non-null    float64\n",
            " 18  symmetry_se              398 non-null    float64\n",
            " 19  fractal_dimension_se     398 non-null    float64\n",
            " 20  radius_worst             398 non-null    float64\n",
            " 21  texture_worst            398 non-null    float64\n",
            " 22  perimeter_worst          398 non-null    float64\n",
            " 23  area_worst               398 non-null    float64\n",
            " 24  smoothness_worst         398 non-null    float64\n",
            " 25  compactness_worst        398 non-null    float64\n",
            " 26  concavity_worst          398 non-null    float64\n",
            " 27  concave points_worst     398 non-null    float64\n",
            " 28  symmetry_worst           398 non-null    float64\n",
            " 29  fractal_dimension_worst  398 non-null    float64\n",
            "dtypes: float64(30)\n",
            "memory usage: 96.4 KB\n"
          ],
          "name": "stdout"
        }
      ]
    },
    {
      "cell_type": "code",
      "metadata": {
        "id": "c2TVzSsxoqE5",
        "colab_type": "code",
        "outputId": "0282e450-9a99-48b4-f424-c623b55caf17",
        "colab": {
          "base_uri": "https://localhost:8080/",
          "height": 108
        }
      },
      "source": [
        "y_train.describe()"
      ],
      "execution_count": 0,
      "outputs": [
        {
          "output_type": "execute_result",
          "data": {
            "text/plain": [
              "count     398\n",
              "unique      2\n",
              "top         B\n",
              "freq      257\n",
              "Name: diagnosis, dtype: object"
            ]
          },
          "metadata": {
            "tags": []
          },
          "execution_count": 50
        }
      ]
    },
    {
      "cell_type": "markdown",
      "metadata": {
        "id": "S9bOVIxBpWYU",
        "colab_type": "text"
      },
      "source": [
        "######Banco de Dados - Teste"
      ]
    },
    {
      "cell_type": "code",
      "metadata": {
        "id": "wvaiS93tofRB",
        "colab_type": "code",
        "outputId": "bab19330-e738-44b0-9a41-e905db36d9f0",
        "colab": {
          "base_uri": "https://localhost:8080/",
          "height": 690
        }
      },
      "source": [
        "X_test.info()"
      ],
      "execution_count": 0,
      "outputs": [
        {
          "output_type": "stream",
          "text": [
            "<class 'pandas.core.frame.DataFrame'>\n",
            "Int64Index: 171 entries, 236 to 219\n",
            "Data columns (total 30 columns):\n",
            " #   Column                   Non-Null Count  Dtype  \n",
            "---  ------                   --------------  -----  \n",
            " 0   radius_mean              171 non-null    float64\n",
            " 1   texture_mean             171 non-null    float64\n",
            " 2   perimeter_mean           171 non-null    float64\n",
            " 3   area_mean                171 non-null    float64\n",
            " 4   smoothness_mean          171 non-null    float64\n",
            " 5   compactness_mean         171 non-null    float64\n",
            " 6   concavity_mean           171 non-null    float64\n",
            " 7   concave points_mean      171 non-null    float64\n",
            " 8   symmetry_mean            171 non-null    float64\n",
            " 9   fractal_dimension_mean   171 non-null    float64\n",
            " 10  radius_se                171 non-null    float64\n",
            " 11  texture_se               171 non-null    float64\n",
            " 12  perimeter_se             171 non-null    float64\n",
            " 13  area_se                  171 non-null    float64\n",
            " 14  smoothness_se            171 non-null    float64\n",
            " 15  compactness_se           171 non-null    float64\n",
            " 16  concavity_se             171 non-null    float64\n",
            " 17  concave points_se        171 non-null    float64\n",
            " 18  symmetry_se              171 non-null    float64\n",
            " 19  fractal_dimension_se     171 non-null    float64\n",
            " 20  radius_worst             171 non-null    float64\n",
            " 21  texture_worst            171 non-null    float64\n",
            " 22  perimeter_worst          171 non-null    float64\n",
            " 23  area_worst               171 non-null    float64\n",
            " 24  smoothness_worst         171 non-null    float64\n",
            " 25  compactness_worst        171 non-null    float64\n",
            " 26  concavity_worst          171 non-null    float64\n",
            " 27  concave points_worst     171 non-null    float64\n",
            " 28  symmetry_worst           171 non-null    float64\n",
            " 29  fractal_dimension_worst  171 non-null    float64\n",
            "dtypes: float64(30)\n",
            "memory usage: 41.4 KB\n"
          ],
          "name": "stdout"
        }
      ]
    },
    {
      "cell_type": "code",
      "metadata": {
        "id": "ZFKJl8uroxy5",
        "colab_type": "code",
        "outputId": "329cd8bd-ead3-4227-b506-c6d031ee47dd",
        "colab": {
          "base_uri": "https://localhost:8080/",
          "height": 108
        }
      },
      "source": [
        "y_test.describe()"
      ],
      "execution_count": 0,
      "outputs": [
        {
          "output_type": "execute_result",
          "data": {
            "text/plain": [
              "count     171\n",
              "unique      2\n",
              "top         B\n",
              "freq      100\n",
              "Name: diagnosis, dtype: object"
            ]
          },
          "metadata": {
            "tags": []
          },
          "execution_count": 52
        }
      ]
    },
    {
      "cell_type": "markdown",
      "metadata": {
        "id": "BCDSukjvpkVC",
        "colab_type": "text"
      },
      "source": [
        "####Passo 4 e 5"
      ]
    },
    {
      "cell_type": "code",
      "metadata": {
        "id": "aFl6SZ-bpgnH",
        "colab_type": "code",
        "colab": {}
      },
      "source": [
        "#Passo 4: Ajuste o modelo aos dados\n",
        "model_decisiontree.fit(X_train, y_train)\n",
        "#Passo 5: Faça predições em dados novos\n",
        "y_model_decisiontree = model_decisiontree.predict(X_test)"
      ],
      "execution_count": 0,
      "outputs": []
    },
    {
      "cell_type": "markdown",
      "metadata": {
        "id": "HU6x2pyfq1i4",
        "colab_type": "text"
      },
      "source": [
        "####Extra: Verificando a acurácia do modelo"
      ]
    },
    {
      "cell_type": "code",
      "metadata": {
        "id": "BoUTYlinq0tP",
        "colab_type": "code",
        "outputId": "25733bc6-d02c-41c2-e66d-e43ca0784829",
        "colab": {
          "base_uri": "https://localhost:8080/",
          "height": 35
        }
      },
      "source": [
        "#Verificando a acurácia do modelo escolhido\n",
        "from sklearn.metrics import accuracy_score\n",
        "accuracy_decisiontree = accuracy_score(y_test, y_model_decisiontree)\n",
        "accuracy_decisiontree"
      ],
      "execution_count": 0,
      "outputs": [
        {
          "output_type": "execute_result",
          "data": {
            "text/plain": [
              "0.9473684210526315"
            ]
          },
          "metadata": {
            "tags": []
          },
          "execution_count": 67
        }
      ]
    },
    {
      "cell_type": "markdown",
      "metadata": {
        "id": "rFZ8RZI8rNcg",
        "colab_type": "text"
      },
      "source": [
        "###Por Naive Bayes: GaussianNB"
      ]
    },
    {
      "cell_type": "markdown",
      "metadata": {
        "id": "6D68Eq6-rYUZ",
        "colab_type": "text"
      },
      "source": [
        "####Passo 1 e 2"
      ]
    },
    {
      "cell_type": "code",
      "metadata": {
        "id": "vXdma7XBrUam",
        "colab_type": "code",
        "colab": {}
      },
      "source": [
        "from sklearn.naive_bayes import GaussianNB     # Passo 1: escolha do modelo\n",
        "model_naiveb = GaussianNB()                    # Passo 2: escolha dos hiperparâmetros e instanciação"
      ],
      "execution_count": 0,
      "outputs": []
    },
    {
      "cell_type": "markdown",
      "metadata": {
        "id": "Z7IiaqEUrggO",
        "colab_type": "text"
      },
      "source": [
        "####Passo 4 e 5"
      ]
    },
    {
      "cell_type": "code",
      "metadata": {
        "id": "KqlzQPgIrhkq",
        "colab_type": "code",
        "outputId": "162d6afb-8ed1-4939-f283-cbc3fd1bf951",
        "colab": {
          "base_uri": "https://localhost:8080/",
          "height": 35
        }
      },
      "source": [
        "#Passo 4: Ajuste o modelo aos dados\n",
        "model_naiveb.fit(X_train, y_train)\n",
        "#Passo 5: Faça predições em dados novos\n",
        "y_model_naiveb = model_naiveb.predict(X_test)"
      ],
      "execution_count": 0,
      "outputs": [
        {
          "output_type": "execute_result",
          "data": {
            "text/plain": [
              "GaussianNB(priors=None, var_smoothing=1e-09)"
            ]
          },
          "metadata": {
            "tags": []
          },
          "execution_count": 62
        }
      ]
    },
    {
      "cell_type": "markdown",
      "metadata": {
        "id": "vLr1sSaTrtX3",
        "colab_type": "text"
      },
      "source": [
        "####Extra: Verificando a acurácia do modelo"
      ]
    },
    {
      "cell_type": "code",
      "metadata": {
        "id": "0BUXzKnurw5N",
        "colab_type": "code",
        "outputId": "f2cc0e6a-ef03-44be-86b6-1806e4d0fcf7",
        "colab": {
          "base_uri": "https://localhost:8080/",
          "height": 35
        }
      },
      "source": [
        "#Verificando a acurácia do modelo escolhido\n",
        "from sklearn.metrics import accuracy_score\n",
        "accuracy_naiveb = accuracy_score(y_test, y_model_naiveb)\n",
        "accuracy_naiveb"
      ],
      "execution_count": 0,
      "outputs": [
        {
          "output_type": "execute_result",
          "data": {
            "text/plain": [
              "0.9590643274853801"
            ]
          },
          "metadata": {
            "tags": []
          },
          "execution_count": 69
        }
      ]
    },
    {
      "cell_type": "markdown",
      "metadata": {
        "colab_type": "text",
        "id": "iCjRQFuwsMad"
      },
      "source": [
        "###Cross Validation"
      ]
    },
    {
      "cell_type": "markdown",
      "metadata": {
        "colab_type": "text",
        "id": "mEWl77IZsMah"
      },
      "source": [
        "####Passo 1 e 2"
      ]
    },
    {
      "cell_type": "code",
      "metadata": {
        "colab_type": "code",
        "id": "TqR-B4qGsMak",
        "colab": {}
      },
      "source": [
        "from sklearn.neighbors import KNeighborsClassifier     # Passo 1: escolha do modelo\n",
        "model_knc = KNeighborsClassifier()                     # Passo 2: escolha dos hiperparâmetros e instanciação"
      ],
      "execution_count": 0,
      "outputs": []
    },
    {
      "cell_type": "markdown",
      "metadata": {
        "colab_type": "text",
        "id": "S0-Cks5HsMbA"
      },
      "source": [
        "####Extra: Verificando a acurácia do modelo"
      ]
    },
    {
      "cell_type": "code",
      "metadata": {
        "colab_type": "code",
        "outputId": "7385282a-40e6-4ea5-c5c3-8d615ef1e15c",
        "id": "6bnRC6W1sMbC",
        "colab": {
          "base_uri": "https://localhost:8080/",
          "height": 35
        }
      },
      "source": [
        "#Verificando a acurácia do modelo escolhido\n",
        "from sklearn.model_selection import cross_val_score\n",
        "cross_val_score(model_knc, X_diagnosis, y_diagnosis, cv=5)"
      ],
      "execution_count": 0,
      "outputs": [
        {
          "output_type": "execute_result",
          "data": {
            "text/plain": [
              "array([0.88596491, 0.93859649, 0.93859649, 0.94736842, 0.92920354])"
            ]
          },
          "metadata": {
            "tags": []
          },
          "execution_count": 78
        }
      ]
    },
    {
      "cell_type": "markdown",
      "metadata": {
        "id": "pGKeqJFtHYXs",
        "colab_type": "text"
      },
      "source": [
        "###Análise dos Resultados (Matriz de Confusão)"
      ]
    },
    {
      "cell_type": "markdown",
      "metadata": {
        "id": "587U2G9zxUAz",
        "colab_type": "text"
      },
      "source": [
        "####Decision Tree"
      ]
    },
    {
      "cell_type": "code",
      "metadata": {
        "id": "t4HQkUmYxTPa",
        "colab_type": "code",
        "outputId": "462048d7-83e0-433a-e04c-010096f3f20f",
        "colab": {
          "base_uri": "https://localhost:8080/",
          "height": 297
        }
      },
      "source": [
        "from sklearn.metrics import confusion_matrix\n",
        "mat_decisiontree = confusion_matrix(y_test, y_model_decisiontree)\n",
        "\n",
        "sns.heatmap(mat_decisiontree, square=True, annot=True, cmap='YlOrRd')\n",
        "plt.xlabel('Valores Preditos')\n",
        "plt.ylabel('Valores Reais')"
      ],
      "execution_count": 0,
      "outputs": [
        {
          "output_type": "execute_result",
          "data": {
            "text/plain": [
              "Text(83.40000000000006, 0.5, 'Valores Reais')"
            ]
          },
          "metadata": {
            "tags": []
          },
          "execution_count": 126
        },
        {
          "output_type": "display_data",
          "data": {
            "image/png": "[encoded data removed]",
            "text/plain": [
              "<Figure size 432x288 with 2 Axes>"
            ]
          },
          "metadata": {
            "tags": [],
            "needs_background": "light"
          }
        }
      ]
    },
    {
      "cell_type": "code",
      "metadata": {
        "id": "yh5LefD9yqjy",
        "colab_type": "code",
        "outputId": "62e1213a-b575-47ca-ea2d-852f8edc9ddd",
        "colab": {
          "base_uri": "https://localhost:8080/",
          "height": 301
        }
      },
      "source": [
        "mat_real = pd.DataFrame (\n",
        "    {\n",
        "        '0': [y_test[y_test == 'B'].count(), 0],\n",
        "        '1': [0, y_test[y_test == 'M'].count()]\n",
        "    }\n",
        ")\n",
        "sns.heatmap(mat_real, square=True, annot=True, cmap='YlOrRd')\n",
        "plt.xlabel('Valores Preditos')\n",
        "plt.ylabel('Valores Reais')"
      ],
      "execution_count": 0,
      "outputs": [
        {
          "output_type": "execute_result",
          "data": {
            "text/plain": [
              "Text(83.40000000000006, 0.5, 'Valores Reais')"
            ]
          },
          "metadata": {
            "tags": []
          },
          "execution_count": 135
        },
        {
          "output_type": "display_data",
          "data": {
            "image/png": "[encoded data removed]",
            "text/plain": [
              "<Figure size 432x288 with 2 Axes>"
            ]
          },
          "metadata": {
            "tags": [],
            "needs_background": "light"
          }
        }
      ]
    },
    {
      "cell_type": "markdown",
      "metadata": {
        "id": "MgG8UUSoy3nk",
        "colab_type": "text"
      },
      "source": [
        "####Naive Bayes"
      ]
    },
    {
      "cell_type": "code",
      "metadata": {
        "id": "O7a6pH1cy7lU",
        "colab_type": "code",
        "outputId": "0adaa23a-eb79-4430-e232-a1b334d08f9c",
        "colab": {
          "base_uri": "https://localhost:8080/",
          "height": 297
        }
      },
      "source": [
        "from sklearn.metrics import confusion_matrix\n",
        "mat_naiveb = confusion_matrix(y_test, y_model_naiveb)\n",
        "\n",
        "sns.heatmap(mat_naiveb, square=True, annot=True, cmap='YlOrRd')\n",
        "plt.xlabel('Valores Preditos')\n",
        "plt.ylabel('Valores Reais')"
      ],
      "execution_count": 0,
      "outputs": [
        {
          "output_type": "execute_result",
          "data": {
            "text/plain": [
              "Text(83.40000000000006, 0.5, 'Valores Reais')"
            ]
          },
          "metadata": {
            "tags": []
          },
          "execution_count": 136
        },
        {
          "output_type": "display_data",
          "data": {
            "image/png": "[encoded data removed]",
            "text/plain": [
              "<Figure size 432x288 with 2 Axes>"
            ]
          },
          "metadata": {
            "tags": [],
            "needs_background": "light"
          }
        }
      ]
    }
  ]
}